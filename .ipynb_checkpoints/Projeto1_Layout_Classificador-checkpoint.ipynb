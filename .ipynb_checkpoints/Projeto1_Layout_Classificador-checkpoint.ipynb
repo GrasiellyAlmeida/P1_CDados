{
 "cells": [
  {
   "cell_type": "markdown",
   "metadata": {},
   "source": [
    "# Projeto 1 - Ciência dos Dados"
   ]
  },
  {
   "cell_type": "markdown",
   "metadata": {},
   "source": [
    "Nome:GRASIELLY ALMEIDA LIMA\n",
    "\n",
    "Nome:QUÉZIA PEREIRA DA SILVA MOURA"
   ]
  },
  {
   "cell_type": "markdown",
   "metadata": {},
   "source": [
    "Atenção: Serão permitidos grupos de três pessoas, mas com uma rubrica mais exigente. Grupos deste tamanho precisarão fazer um questionário de avaliação de trabalho em equipe"
   ]
  },
  {
   "cell_type": "markdown",
   "metadata": {},
   "source": [
    "___\n",
    "Carregando algumas bibliotecas:"
   ]
  },
  {
   "cell_type": "code",
   "execution_count": 1,
   "metadata": {},
   "outputs": [
    {
     "name": "stderr",
     "output_type": "stream",
     "text": [
      "[nltk_data] Downloading package stopwords to\n",
      "[nltk_data]     C:\\Users\\quezi\\AppData\\Roaming\\nltk_data...\n",
      "[nltk_data]   Package stopwords is already up-to-date!\n"
     ]
    }
   ],
   "source": [
    "%matplotlib inline\n",
    "import pandas as pd\n",
    "import matplotlib.pyplot as plt\n",
    "import numpy as np\n",
    "import os\n",
    "import nltk \n",
    "from nltk.stem import RSLPStemmer\n",
    "from sklearn.model_selection import train_test_split\n",
    "nltk.download('stopwords')\n",
    "\n",
    "pd.options.mode.chained_assignment = None  "
   ]
  },
  {
   "cell_type": "code",
   "execution_count": 2,
   "metadata": {
    "scrolled": false
   },
   "outputs": [
    {
     "name": "stdout",
     "output_type": "stream",
     "text": [
      "Esperamos trabalhar no diretório\n",
      "C:\\Users\\quezi\\OneDrive\\Área de Trabalho\\P1_CDados\n"
     ]
    }
   ],
   "source": [
    "print('Esperamos trabalhar no diretório')\n",
    "print(os.getcwd())"
   ]
  },
  {
   "cell_type": "markdown",
   "metadata": {},
   "source": [
    "Carregando a base de dados com os tweets classificados como relevantes e não relevantes:"
   ]
  },
  {
   "cell_type": "code",
   "execution_count": 3,
   "metadata": {},
   "outputs": [],
   "source": [
    "filename = 'ROCK IN RIO.xlsx'"
   ]
  },
  {
   "cell_type": "code",
   "execution_count": 4,
   "metadata": {},
   "outputs": [
    {
     "data": {
      "text/html": [
       "<div>\n",
       "<style scoped>\n",
       "    .dataframe tbody tr th:only-of-type {\n",
       "        vertical-align: middle;\n",
       "    }\n",
       "\n",
       "    .dataframe tbody tr th {\n",
       "        vertical-align: top;\n",
       "    }\n",
       "\n",
       "    .dataframe thead th {\n",
       "        text-align: right;\n",
       "    }\n",
       "</style>\n",
       "<table border=\"1\" class=\"dataframe\">\n",
       "  <thead>\n",
       "    <tr style=\"text-align: right;\">\n",
       "      <th></th>\n",
       "      <th>Treinamento</th>\n",
       "      <th>CLASSIFICAÇÃO</th>\n",
       "    </tr>\n",
       "  </thead>\n",
       "  <tbody>\n",
       "    <tr>\n",
       "      <th>0</th>\n",
       "      <td>aiai, rock in rio q me aguardeeee https://t.co...</td>\n",
       "      <td>1</td>\n",
       "    </tr>\n",
       "    <tr>\n",
       "      <th>1</th>\n",
       "      <td>quero uma  apresentação dessa  no rock in rio ...</td>\n",
       "      <td>1</td>\n",
       "    </tr>\n",
       "    <tr>\n",
       "      <th>2</th>\n",
       "      <td>ainda procuro gente pra ir no rock in rio 😢</td>\n",
       "      <td>0</td>\n",
       "    </tr>\n",
       "    <tr>\n",
       "      <th>3</th>\n",
       "      <td>o rock in rio me respondendo, socorro https://...</td>\n",
       "      <td>0</td>\n",
       "    </tr>\n",
       "    <tr>\n",
       "      <th>4</th>\n",
       "      <td>alguém trás a rihanna pro rock in rio novamente</td>\n",
       "      <td>0</td>\n",
       "    </tr>\n",
       "  </tbody>\n",
       "</table>\n",
       "</div>"
      ],
      "text/plain": [
       "                                         Treinamento  CLASSIFICAÇÃO\n",
       "0  aiai, rock in rio q me aguardeeee https://t.co...              1\n",
       "1  quero uma  apresentação dessa  no rock in rio ...              1\n",
       "2        ainda procuro gente pra ir no rock in rio 😢              0\n",
       "3  o rock in rio me respondendo, socorro https://...              0\n",
       "4    alguém trás a rihanna pro rock in rio novamente              0"
      ]
     },
     "execution_count": 4,
     "metadata": {},
     "output_type": "execute_result"
    }
   ],
   "source": [
    "train = pd.read_excel(filename)\n",
    "train.head(5)"
   ]
  },
  {
   "cell_type": "code",
   "execution_count": 5,
   "metadata": {},
   "outputs": [
    {
     "data": {
      "text/html": [
       "<div>\n",
       "<style scoped>\n",
       "    .dataframe tbody tr th:only-of-type {\n",
       "        vertical-align: middle;\n",
       "    }\n",
       "\n",
       "    .dataframe tbody tr th {\n",
       "        vertical-align: top;\n",
       "    }\n",
       "\n",
       "    .dataframe thead th {\n",
       "        text-align: right;\n",
       "    }\n",
       "</style>\n",
       "<table border=\"1\" class=\"dataframe\">\n",
       "  <thead>\n",
       "    <tr style=\"text-align: right;\">\n",
       "      <th></th>\n",
       "      <th>Teste</th>\n",
       "      <th>CLASSIFICAÇÃO</th>\n",
       "    </tr>\n",
       "  </thead>\n",
       "  <tbody>\n",
       "    <tr>\n",
       "      <th>0</th>\n",
       "      <td>será que o justin vai fazer um show no rj além...</td>\n",
       "      <td>0</td>\n",
       "    </tr>\n",
       "    <tr>\n",
       "      <th>1</th>\n",
       "      <td>isso aqui no rock in rio acho que vou chorar  ...</td>\n",
       "      <td>0</td>\n",
       "    </tr>\n",
       "    <tr>\n",
       "      <th>2</th>\n",
       "      <td>nao to preparada para tudo isso no rock in rio...</td>\n",
       "      <td>1</td>\n",
       "    </tr>\n",
       "    <tr>\n",
       "      <th>3</th>\n",
       "      <td>@acciomari quanto ta o ingresso do rock in rio?</td>\n",
       "      <td>0</td>\n",
       "    </tr>\n",
       "    <tr>\n",
       "      <th>4</th>\n",
       "      <td>meu namorado vai realizar meu sonho de ir pro ...</td>\n",
       "      <td>1</td>\n",
       "    </tr>\n",
       "  </tbody>\n",
       "</table>\n",
       "</div>"
      ],
      "text/plain": [
       "                                               Teste  CLASSIFICAÇÃO\n",
       "0  será que o justin vai fazer um show no rj além...              0\n",
       "1  isso aqui no rock in rio acho que vou chorar  ...              0\n",
       "2  nao to preparada para tudo isso no rock in rio...              1\n",
       "3    @acciomari quanto ta o ingresso do rock in rio?              0\n",
       "4  meu namorado vai realizar meu sonho de ir pro ...              1"
      ]
     },
     "execution_count": 5,
     "metadata": {},
     "output_type": "execute_result"
    }
   ],
   "source": [
    "test = pd.read_excel(filename, sheet_name = 'Teste')\n",
    "test.head(5)"
   ]
  },
  {
   "cell_type": "markdown",
   "metadata": {},
   "source": [
    "___\n",
    "## Classificador automático de sentimento\n"
   ]
  },
  {
   "cell_type": "markdown",
   "metadata": {},
   "source": [
    "O produto escolhido foi o Rock in Rio,\"O Rock in Rio é um festival de música idealizado pelo empresário brasileiro Roberto Medina pela primeira vez em 1985, sendo, desde sua criação, reconhecidamente, o maior festival musical do planeta.\" Em especial foi escolhido o evento que ocorrerá em 2022 na cidade do Rio de Janeiro.\n",
    "\n",
    "FONTE: https://pt.wikipedia.org/wiki/Rock_in_Rio\n",
    "\n",
    "Quanto o critério de classificação dos tweets, classificamos como tweets relevantes toda e qualquer citação, positiva ou negativa, referente às citações dos internautas acerca do produto. Tweets considerados como \"irrelevantes\" foram denominados como tweets não relacionados diretamente ao produto. Além disso, os tweets considerados relevantes expressavam algum sentimento em relação ao evento musical, seja de felicidade, ansiedade, informações sobre compra de ingressos e possíveis atrações que estarão presentes no evento de 2022."
   ]
  },
  {
   "cell_type": "markdown",
   "metadata": {},
   "source": [
    "___\n",
    "### Montando um Classificador Naive-Bayes\n",
    "\n",
    "Considerando apenas as mensagens da planilha Treinamento, ensine  seu classificador."
   ]
  },
  {
   "cell_type": "markdown",
   "metadata": {},
   "source": [
    "O algoritmo \"Naive Bayes\" é um classificador probabilístico muito utilizado em aprendizado de máquina, que se baseia no \"Teorema de Bayes\". Hoje também é utilizado na área de Aprendizado de Máquina para categorizar textos com base na frequência das palavras usadas.\n",
    "\n",
    "Ele recebe o nome de \"naive\" (ingênuo) porque desconsidera a correlação entre as variáveis (características).\n",
    "\n",
    "Frequentemente aplicado em processamento de linguagem natural e diagnósticos médicos, o método pode ser usado quando os atributos que descrevem as instâncias for condicionalmente independentes. Ou seja, o teorema de Bayes trata sobre probabilidade condicional. Isto é, qual a probabilidade de o evento A ocorrer, dado o evento B.\n",
    "\n",
    "Desse modo, a resolução de problemas relacionados a texto é muito bem resolvida com a utilização do Naive Bayes. Classificação de textos, filtragem de SPAM e análise de sentimento em redes sociais são algumas das muitas aplicações para o algoritmo.\n",
    "\n",
    "FONTE: https://www.datageeks.com.br/naive-bayes/"
   ]
  },
  {
   "cell_type": "markdown",
   "metadata": {},
   "source": [
    "**EVENTOS**\n",
    "\n",
    " * $R$: tweets relevantes\n",
    " * $R^c$: tweets irrelevantes\n",
    " * $C$: tweet recebido"
   ]
  },
  {
   "cell_type": "markdown",
   "metadata": {},
   "source": [
    "**PROBABILIDADES**\n",
    "\n",
    " * $P(R)$ : probabilidade de um tweet ser relevante ;\n",
    " * $P(R^c)$: probabilidade de um tweet não ser relevante, ou seja, irrelevante ;\n",
    " * $P(C)$ : probabilidade de cada tweet ocorrer na língua portuguesa ;\n",
    " * $P(C|R)$ : probabilidade do tweet existir dado o conjunto de tweets relevantes ;\n",
    " * $P(C|R^c)$: probabilidade do tweet existir dado o conjunto de tweets irrelevantes ; \n",
    " * $P(R|C)$: probabilidade do tweet ser relevante dado a frase ;\n",
    " * $P(R^c|C)$: probabilidade do tweet ser irrelevante dado a frase;\n"
   ]
  },
  {
   "cell_type": "markdown",
   "metadata": {},
   "source": [
    "$$P(R|C) = \\frac{P(C|R) \\cdot P(R)}{P(C)}$$"
   ]
  },
  {
   "cell_type": "markdown",
   "metadata": {},
   "source": [
    "### Funções criadas:"
   ]
  },
  {
   "cell_type": "code",
   "execution_count": 6,
   "metadata": {},
   "outputs": [],
   "source": [
    "import re \n",
    "from nltk.tokenize.casual import TweetTokenizer #Para separar os emojis como palavras.\n",
    "\n",
    "\n",
    "# Removendo caracteres e outras limpezas \n",
    "\n",
    "def cleanup(texto):\n",
    "    pontuacao = '[.,@\"''\"-)(][):;\\/?!]'\n",
    "    modelo = re.compile(pontuacao)\n",
    "    novo_texto = re.sub(modelo,'',texto)\n",
    "    novo_texto = re.sub(r'http\\S+','', novo_texto)\n",
    "    tt = TweetTokenizer()\n",
    "    novo_texto = tt.tokenize(novo_texto)\n",
    "    return novo_texto\n",
    "\n",
    "# Função para remover espaços\n",
    "\n",
    "def Remove_espaco(lista_palavras):\n",
    "    stopwords = nltk.corpus.stopwords.words('portuguese')\n",
    "    nova_lista_palavras = []\n",
    "    for palavra in lista_palavras:\n",
    "        if palavra not in stopwords:\n",
    "            nova_lista_palavras.append(palavra)\n",
    "    return nova_lista_palavras\n",
    "\n",
    "def Suavizacao_Laplace(a, b, c):\n",
    "    x = (1 + a)/(b + len(c))  \n",
    "    return x\n",
    "\n",
    "# Função para multiplicar valores de listas\n",
    "def Multiplica_valores(lista) : \n",
    "    resultado = 1\n",
    "    for elemento in lista : \n",
    "         resultado = resultado * elemento \n",
    "    return resultado\n",
    "\n",
    "    \n",
    "\n"
   ]
  },
  {
   "cell_type": "markdown",
   "metadata": {},
   "source": [
    "### Criando variáveis com palavras juntas e as limpando:"
   ]
  },
  {
   "cell_type": "code",
   "execution_count": 7,
   "metadata": {},
   "outputs": [
    {
     "data": {
      "text/html": [
       "<div>\n",
       "<style scoped>\n",
       "    .dataframe tbody tr th:only-of-type {\n",
       "        vertical-align: middle;\n",
       "    }\n",
       "\n",
       "    .dataframe tbody tr th {\n",
       "        vertical-align: top;\n",
       "    }\n",
       "\n",
       "    .dataframe thead th {\n",
       "        text-align: right;\n",
       "    }\n",
       "</style>\n",
       "<table border=\"1\" class=\"dataframe\">\n",
       "  <thead>\n",
       "    <tr style=\"text-align: right;\">\n",
       "      <th></th>\n",
       "      <th>Treinamento</th>\n",
       "      <th>CLASSIFICAÇÃO</th>\n",
       "    </tr>\n",
       "  </thead>\n",
       "  <tbody>\n",
       "    <tr>\n",
       "      <th>2</th>\n",
       "      <td>ainda procuro gente pra ir no rock in rio 😢</td>\n",
       "      <td>0</td>\n",
       "    </tr>\n",
       "    <tr>\n",
       "      <th>3</th>\n",
       "      <td>o rock in rio me respondendo, socorro https://...</td>\n",
       "      <td>0</td>\n",
       "    </tr>\n",
       "    <tr>\n",
       "      <th>4</th>\n",
       "      <td>alguém trás a rihanna pro rock in rio novamente</td>\n",
       "      <td>0</td>\n",
       "    </tr>\n",
       "    <tr>\n",
       "      <th>6</th>\n",
       "      <td>e o camarote do joão gomes que tá mais caro qu...</td>\n",
       "      <td>0</td>\n",
       "    </tr>\n",
       "    <tr>\n",
       "      <th>9</th>\n",
       "      <td>um lil nas x no rock in rio ia ser tudo ein ……</td>\n",
       "      <td>0</td>\n",
       "    </tr>\n",
       "    <tr>\n",
       "      <th>...</th>\n",
       "      <td>...</td>\n",
       "      <td>...</td>\n",
       "    </tr>\n",
       "    <tr>\n",
       "      <th>294</th>\n",
       "      <td>imagina se eu vou pra rock in rio pra ouvir ro...</td>\n",
       "      <td>0</td>\n",
       "    </tr>\n",
       "    <tr>\n",
       "      <th>295</th>\n",
       "      <td>- você é fã do justin bieber?\\n- sim\\n- e você...</td>\n",
       "      <td>0</td>\n",
       "    </tr>\n",
       "    <tr>\n",
       "      <th>296</th>\n",
       "      <td>roknriha??! pq eu entendi ese trocadilho como ...</td>\n",
       "      <td>0</td>\n",
       "    </tr>\n",
       "    <tr>\n",
       "      <th>298</th>\n",
       "      <td>@_rdomingues se liga, o show dele tá pra ser o...</td>\n",
       "      <td>0</td>\n",
       "    </tr>\n",
       "    <tr>\n",
       "      <th>299</th>\n",
       "      <td>se o khalid vier pro rock in rio eu morro \\n\\n...</td>\n",
       "      <td>0</td>\n",
       "    </tr>\n",
       "  </tbody>\n",
       "</table>\n",
       "<p>172 rows × 2 columns</p>\n",
       "</div>"
      ],
      "text/plain": [
       "                                           Treinamento  CLASSIFICAÇÃO\n",
       "2          ainda procuro gente pra ir no rock in rio 😢              0\n",
       "3    o rock in rio me respondendo, socorro https://...              0\n",
       "4      alguém trás a rihanna pro rock in rio novamente              0\n",
       "6    e o camarote do joão gomes que tá mais caro qu...              0\n",
       "9       um lil nas x no rock in rio ia ser tudo ein ……              0\n",
       "..                                                 ...            ...\n",
       "294  imagina se eu vou pra rock in rio pra ouvir ro...              0\n",
       "295  - você é fã do justin bieber?\\n- sim\\n- e você...              0\n",
       "296  roknriha??! pq eu entendi ese trocadilho como ...              0\n",
       "298  @_rdomingues se liga, o show dele tá pra ser o...              0\n",
       "299  se o khalid vier pro rock in rio eu morro \\n\\n...              0\n",
       "\n",
       "[172 rows x 2 columns]"
      ]
     },
     "execution_count": 7,
     "metadata": {},
     "output_type": "execute_result"
    }
   ],
   "source": [
    "# TWEETS RELEVANTES DO TREINAMENTO\n",
    "\n",
    "treinamento_relevante = train.loc[train.CLASSIFICAÇÃO == 1, :]\n",
    "treinamento_filtrado_relevante = \" \".join(treinamento_relevante['Treinamento']) \n",
    "\n",
    "# TWEETS IRRELEVANTES DO TREINAMENTO\n",
    "treinamento_irrelevante = train.loc[train.CLASSIFICAÇÃO == 0, :]\n",
    "treinamento_filtrado_irrelevante = \" \".join(treinamento_irrelevante['Treinamento']) \n",
    "treinamento_irrelevante"
   ]
  },
  {
   "cell_type": "code",
   "execution_count": 8,
   "metadata": {},
   "outputs": [],
   "source": [
    "#LIMPANDO VARIÁVEIS CRIADAS, COLOCANDO EM MINÚSCULO E AS GUARDANDO\n",
    "relevante = cleanup(treinamento_filtrado_relevante.lower()) # Colocar todas letras em minúsculo e Limpar variáveis\n",
    "palavras_relevantes = Remove_espaco(relevante)  \n",
    "\n",
    "irrelevante = cleanup(treinamento_filtrado_irrelevante.lower())\n",
    "palavras_irrelevantes = Remove_espaco(irrelevante)"
   ]
  },
  {
   "cell_type": "code",
   "execution_count": 9,
   "metadata": {},
   "outputs": [],
   "source": [
    "total_palavras = palavras_relevantes + palavras_irrelevantes"
   ]
  },
  {
   "cell_type": "code",
   "execution_count": 10,
   "metadata": {},
   "outputs": [],
   "source": [
    "#TRANSFORMANDO EM PD.SERIES\n",
    "series_total = pd.Series(total_palavras)\n",
    "series_train_relevante = pd.Series(palavras_relevantes)\n",
    "series_train_irrelevante = pd.Series(palavras_irrelevantes)"
   ]
  },
  {
   "cell_type": "markdown",
   "metadata": {},
   "source": [
    "### Cálculo das frequências"
   ]
  },
  {
   "cell_type": "code",
   "execution_count": 11,
   "metadata": {},
   "outputs": [],
   "source": [
    "#FREQUÊNCIAS RELATIVAS\n",
    "\n",
    "total_pal_rel = series_total.value_counts(True)\n",
    "pal_relevante_rel = series_train_relevante.value_counts(True)\n",
    "pal_irrelevante_rel = series_train_irrelevante.value_counts(True)"
   ]
  },
  {
   "cell_type": "code",
   "execution_count": 12,
   "metadata": {},
   "outputs": [],
   "source": [
    "#FREQUÊNCIAS ABSOLUTAS\n",
    "\n",
    "pal_relevante_abs = series_train_relevante.value_counts()\n",
    "pal_irrelevante_abs = series_train_irrelevante.value_counts()\n",
    "pal_total_abs = series_total.value_counts()"
   ]
  },
  {
   "cell_type": "markdown",
   "metadata": {},
   "source": [
    "### Atribuindo funções ao classificador"
   ]
  },
  {
   "cell_type": "code",
   "execution_count": 13,
   "metadata": {},
   "outputs": [],
   "source": [
    "def classificadora(test):\n",
    "    \n",
    "    lista_resultados = []\n",
    "    \n",
    "    test['Classificação_NB'] = 'NaN'\n",
    "    \n",
    "    for tweet in list(test.iloc[:,0]):\n",
    "        \n",
    "        tweet_limpo = Remove_espaco(cleanup(tweet.lower()))\n",
    "        lista_de_prob1 = []\n",
    "        lista_de_prob2 = []\n",
    "        \n",
    "        for palavra in tweet_limpo:\n",
    "            \n",
    "            if (palavra in pal_relevante_abs) & (palavra not in pal_irrelevante_abs):\n",
    "                Laplace = Suavizacao_Laplace(pal_relevante_abs[palavra],pal_relevante_abs.sum(),pal_total_abs)\n",
    "                lista_de_prob1.append(Laplace)\n",
    "                Laplace = Suavizacao_Laplace(0,pal_irrelevante_abs.sum(),pal_total_abs)\n",
    "                lista_de_prob2.append(Laplace)\n",
    "                \n",
    "            elif (palavra not in pal_relevante_abs) & (palavra in pal_irrelevante_abs):\n",
    "                Laplace = Suavizacao_Laplace(pal_irrelevante_abs[palavra],pal_irrelevante_abs.sum(),pal_total_abs)\n",
    "                lista_de_prob2.append(Laplace)\n",
    "                Laplace = Suavizacao_Laplace(0,pal_relevante_abs.sum(),pal_total_abs)\n",
    "                lista_de_prob1.append(Laplace)\n",
    "                \n",
    "            elif (palavra in pal_relevante_abs) & (palavra in pal_irrelevante_abs):\n",
    "                Laplace = Suavizacao_Laplace(pal_relevante_abs[palavra],pal_relevante_abs.sum(),pal_total_abs)\n",
    "                lista_de_prob1.append(Laplace)\n",
    "                Laplace = Suavizacao_Laplace(pal_irrelevante_abs[palavra],pal_irrelevante_abs.sum(),pal_total_abs)\n",
    "                lista_de_prob2.append(Laplace)\n",
    "            \n",
    "            elif palavra == 'rock in rio':\n",
    "                continue\n",
    "                \n",
    "            else:\n",
    "                Laplace = Suavizacao_Laplace(0,pal_relevante_abs.sum(),pal_total_abs)\n",
    "                lista_de_prob1.append(Laplace)\n",
    "                Laplace = Suavizacao_Laplace(0,pal_irrelevante_abs.sum(),pal_total_abs)\n",
    "                lista_de_prob2.append(Laplace)\n",
    "                \n",
    "            P_C_dado_R = Multiplica_valores(lista_de_prob1)\n",
    "            P_C_dado_Rc = Multiplica_valores(lista_de_prob2)\n",
    "\n",
    "        P_R = (pal_relevante_abs.sum())/(pal_total_abs.sum())\n",
    "    \n",
    "        P_Rc = 1 - P_R\n",
    "        \n",
    "        P_R_dado_C = P_R * P_C_dado_R\n",
    "\n",
    "        P_Rc_dado_C = P_Rc * P_C_dado_Rc            \n",
    "        \n",
    "        if P_R_dado_C > P_Rc_dado_C:\n",
    "            resultado = 1\n",
    "        else:\n",
    "            resultado = 0\n",
    "        \n",
    "        lista_resultados.append(resultado)\n",
    "    test['Classificação_NB'] = lista_resultados\n",
    "    return test\n",
    "    "
   ]
  },
  {
   "cell_type": "markdown",
   "metadata": {},
   "source": [
    "___\n",
    "### Verificando a performance do Classificador\n",
    "\n",
    "Agora você deve testar o seu classificador com a base de Testes."
   ]
  },
  {
   "cell_type": "code",
   "execution_count": 14,
   "metadata": {},
   "outputs": [
    {
     "data": {
      "text/html": [
       "<div>\n",
       "<style scoped>\n",
       "    .dataframe tbody tr th:only-of-type {\n",
       "        vertical-align: middle;\n",
       "    }\n",
       "\n",
       "    .dataframe tbody tr th {\n",
       "        vertical-align: top;\n",
       "    }\n",
       "\n",
       "    .dataframe thead th {\n",
       "        text-align: right;\n",
       "    }\n",
       "</style>\n",
       "<table border=\"1\" class=\"dataframe\">\n",
       "  <thead>\n",
       "    <tr style=\"text-align: right;\">\n",
       "      <th></th>\n",
       "      <th>Teste</th>\n",
       "      <th>CLASSIFICAÇÃO</th>\n",
       "      <th>Classificação_NB</th>\n",
       "    </tr>\n",
       "  </thead>\n",
       "  <tbody>\n",
       "    <tr>\n",
       "      <th>0</th>\n",
       "      <td>será que o justin vai fazer um show no rj além...</td>\n",
       "      <td>0</td>\n",
       "      <td>0</td>\n",
       "    </tr>\n",
       "    <tr>\n",
       "      <th>1</th>\n",
       "      <td>isso aqui no rock in rio acho que vou chorar  ...</td>\n",
       "      <td>0</td>\n",
       "      <td>1</td>\n",
       "    </tr>\n",
       "    <tr>\n",
       "      <th>2</th>\n",
       "      <td>nao to preparada para tudo isso no rock in rio...</td>\n",
       "      <td>1</td>\n",
       "      <td>1</td>\n",
       "    </tr>\n",
       "    <tr>\n",
       "      <th>3</th>\n",
       "      <td>@acciomari quanto ta o ingresso do rock in rio?</td>\n",
       "      <td>0</td>\n",
       "      <td>0</td>\n",
       "    </tr>\n",
       "    <tr>\n",
       "      <th>4</th>\n",
       "      <td>meu namorado vai realizar meu sonho de ir pro ...</td>\n",
       "      <td>1</td>\n",
       "      <td>1</td>\n",
       "    </tr>\n",
       "    <tr>\n",
       "      <th>...</th>\n",
       "      <td>...</td>\n",
       "      <td>...</td>\n",
       "      <td>...</td>\n",
       "    </tr>\n",
       "    <tr>\n",
       "      <th>195</th>\n",
       "      <td>procuro pessoas que queiram agora alugar junto...</td>\n",
       "      <td>0</td>\n",
       "      <td>1</td>\n",
       "    </tr>\n",
       "    <tr>\n",
       "      <th>196</th>\n",
       "      <td>essa baderna do bonoro é o rock in rio do idoso.</td>\n",
       "      <td>0</td>\n",
       "      <td>0</td>\n",
       "    </tr>\n",
       "    <tr>\n",
       "      <th>197</th>\n",
       "      <td>ele mexendo no spotify e descobrindo que vem p...</td>\n",
       "      <td>0</td>\n",
       "      <td>0</td>\n",
       "    </tr>\n",
       "    <tr>\n",
       "      <th>198</th>\n",
       "      <td>rock in rio so aceita pagamento no cartao de c...</td>\n",
       "      <td>0</td>\n",
       "      <td>0</td>\n",
       "    </tr>\n",
       "    <tr>\n",
       "      <th>199</th>\n",
       "      <td>eu já tô participando de uns 300 sorteios do r...</td>\n",
       "      <td>1</td>\n",
       "      <td>1</td>\n",
       "    </tr>\n",
       "  </tbody>\n",
       "</table>\n",
       "<p>200 rows × 3 columns</p>\n",
       "</div>"
      ],
      "text/plain": [
       "                                                 Teste  CLASSIFICAÇÃO  \\\n",
       "0    será que o justin vai fazer um show no rj além...              0   \n",
       "1    isso aqui no rock in rio acho que vou chorar  ...              0   \n",
       "2    nao to preparada para tudo isso no rock in rio...              1   \n",
       "3      @acciomari quanto ta o ingresso do rock in rio?              0   \n",
       "4    meu namorado vai realizar meu sonho de ir pro ...              1   \n",
       "..                                                 ...            ...   \n",
       "195  procuro pessoas que queiram agora alugar junto...              0   \n",
       "196   essa baderna do bonoro é o rock in rio do idoso.              0   \n",
       "197  ele mexendo no spotify e descobrindo que vem p...              0   \n",
       "198  rock in rio so aceita pagamento no cartao de c...              0   \n",
       "199  eu já tô participando de uns 300 sorteios do r...              1   \n",
       "\n",
       "     Classificação_NB  \n",
       "0                   0  \n",
       "1                   1  \n",
       "2                   1  \n",
       "3                   0  \n",
       "4                   1  \n",
       "..                ...  \n",
       "195                 1  \n",
       "196                 0  \n",
       "197                 0  \n",
       "198                 0  \n",
       "199                 1  \n",
       "\n",
       "[200 rows x 3 columns]"
      ]
     },
     "execution_count": 14,
     "metadata": {},
     "output_type": "execute_result"
    }
   ],
   "source": [
    "teste = classificadora(test)\n",
    "teste"
   ]
  },
  {
   "cell_type": "code",
   "execution_count": 15,
   "metadata": {},
   "outputs": [
    {
     "data": {
      "text/plain": [
       "Index(['Irrelevante', 'Relevante'], dtype='object')"
      ]
     },
     "execution_count": 15,
     "metadata": {},
     "output_type": "execute_result"
    }
   ],
   "source": [
    "#Definindo variáveis da base de dados como variáveis categóricas e suas respectivas categorias \n",
    "teste['CLASSIFICAÇÃO'] = teste['CLASSIFICAÇÃO'].astype('category')\n",
    "teste['CLASSIFICAÇÃO'].cat.categories = ['Irrelevante', 'Relevante']\n",
    "teste['CLASSIFICAÇÃO'].cat.categories"
   ]
  },
  {
   "cell_type": "code",
   "execution_count": 16,
   "metadata": {},
   "outputs": [
    {
     "data": {
      "text/plain": [
       "Index(['Irrelevante', 'Relevante'], dtype='object')"
      ]
     },
     "execution_count": 16,
     "metadata": {},
     "output_type": "execute_result"
    }
   ],
   "source": [
    "#Definindo variáveis do classificador como variáveis categóricas e suas respectivas categorias \n",
    "teste['Classificação_NB'] = teste['Classificação_NB'].astype('category')\n",
    "teste['Classificação_NB'].cat.categories = ['Irrelevante', 'Relevante']\n",
    "teste['Classificação_NB'].cat.categories"
   ]
  },
  {
   "cell_type": "code",
   "execution_count": 17,
   "metadata": {},
   "outputs": [
    {
     "data": {
      "text/html": [
       "<div>\n",
       "<style scoped>\n",
       "    .dataframe tbody tr th:only-of-type {\n",
       "        vertical-align: middle;\n",
       "    }\n",
       "\n",
       "    .dataframe tbody tr th {\n",
       "        vertical-align: top;\n",
       "    }\n",
       "\n",
       "    .dataframe thead th {\n",
       "        text-align: right;\n",
       "    }\n",
       "</style>\n",
       "<table border=\"1\" class=\"dataframe\">\n",
       "  <thead>\n",
       "    <tr style=\"text-align: right;\">\n",
       "      <th>CLASSIFICAÇÃO</th>\n",
       "      <th>Irrelevante</th>\n",
       "      <th>Relevante</th>\n",
       "    </tr>\n",
       "    <tr>\n",
       "      <th>Classificação_NB</th>\n",
       "      <th></th>\n",
       "      <th></th>\n",
       "    </tr>\n",
       "  </thead>\n",
       "  <tbody>\n",
       "    <tr>\n",
       "      <th>Irrelevante</th>\n",
       "      <td>0.360</td>\n",
       "      <td>0.065</td>\n",
       "    </tr>\n",
       "    <tr>\n",
       "      <th>Relevante</th>\n",
       "      <td>0.275</td>\n",
       "      <td>0.300</td>\n",
       "    </tr>\n",
       "  </tbody>\n",
       "</table>\n",
       "</div>"
      ],
      "text/plain": [
       "CLASSIFICAÇÃO     Irrelevante  Relevante\n",
       "Classificação_NB                        \n",
       "Irrelevante             0.360      0.065\n",
       "Relevante               0.275      0.300"
      ]
     },
     "execution_count": 17,
     "metadata": {},
     "output_type": "execute_result"
    }
   ],
   "source": [
    "#Comparação entre resultados das classicação da planilha e do classificador Naive Bayes por meio do comando CrossTab\n",
    "\n",
    "tabela = pd.crosstab(teste.Classificação_NB, teste.CLASSIFICAÇÃO, normalize = True).round(4)\n",
    "tabela"
   ]
  },
  {
   "cell_type": "code",
   "execution_count": 18,
   "metadata": {},
   "outputs": [
    {
     "name": "stdout",
     "output_type": "stream",
     "text": [
      "A porcentagem de verdadeiros positivos é: 30.000%\n",
      "\n",
      "A porcentagem de falsos positivos é: 27.500%\n",
      "\n",
      "A porcentagem de verdadeiros negativos é: 36.000%\n",
      "\n",
      "A porcentagem de falsos negativos é: 6.500%\n",
      "\n",
      "Portanto, a eficácia do classificador é de: 66.000%\n",
      "\n"
     ]
    }
   ],
   "source": [
    "#Análise dos resultados apresentados \n",
    "verdadeiros_positivos = tabela.iloc[1,1]*100\n",
    "falsos_positivos = tabela.iloc[1,0]*100\n",
    "verdadeiros_negativos = tabela.iloc[0,0]*100\n",
    "falsos_negativos = tabela.iloc[0,1]*100\n",
    "\n",
    "#calculando eficácia:\n",
    "eficacia = verdadeiros_positivos + verdadeiros_negativos\n",
    "eficacia\n",
    "\n",
    "print('A porcentagem de verdadeiros positivos é: {:.3f}%\\n'.format(verdadeiros_positivos))\n",
    "print('A porcentagem de falsos positivos é: {:.3f}%\\n'.format(falsos_positivos))\n",
    "print('A porcentagem de verdadeiros negativos é: {:.3f}%\\n'.format(verdadeiros_negativos))\n",
    "print('A porcentagem de falsos negativos é: {:.3f}%\\n'.format(falsos_negativos))\n",
    "print('Portanto, a eficácia do classificador é de: {:.3f}%\\n'.format(eficacia))"
   ]
  },
  {
   "cell_type": "markdown",
   "metadata": {},
   "source": [
    "___\n",
    "## Concluindo"
   ]
  },
  {
   "cell_type": "markdown",
   "metadata": {},
   "source": [
    "- ### Comparativos quantitativos:\n",
    " \n",
    "   Analisando as  porcentagens de verdadeiros positivos e verdadeiros negativos temos que a eficácia do classificador é de 66%. Isso evidência que de um total de 100%, apenas existiria cerca de 34% de \"falha\" do classificador, classificando o classificador como bom. \n",
    "   \n",
    "   Analisando as probabilidades dos verdadeiros positivo e falso positivo, bem como os falsos negativos e verdadeiros negativos, podemos ver que a probabilidade dos verdadeiros positivos e verdadeiros negativos são maiores, o que confirma a ideia de classificação de Bayes.\n",
    "   \n",
    "   Como a parte ingênua do Naive Bayes consiste em assumir que as palavras são independentes entre si e que sua ordem na frase não importa, as mensagens tratadas com dupla negação e sacarmo, estas não são  interpretadas pelo classificador.\n",
    "  "
   ]
  },
  {
   "cell_type": "markdown",
   "metadata": {},
   "source": [
    " - ### Por qual motivo a base de treinamento não pode ser alimentada automaticamente pelo próprio classificador?\n",
    " \n",
    "    Sabemos que o devido a ingenuidade do classificador, ele trata as palavras como independentes, com isso ao classificar os tweets essa classificação seria muito imprecisa, e caso houvesse a chegada de novos tweets para serem classificados o novo resultado seria ainda mais impreciso e, consequentemente, as probabilidades mostradas estariam ainda mais longe da realidade "
   ]
  },
  {
   "cell_type": "markdown",
   "metadata": {},
   "source": [
    "- ### Proposta do classificador em outros contextos\n",
    "\n",
    "\n",
    "   O uso do classificador é extenso para várias áreas importantes na sociedade, por exemplo, tem aplicações na análise de crédito, pode ser analisado o perfil do usuário e prever como que são suas condições para que seja aprovada ou não o serviço solicitado. Outro uso seria a busca por falhas em sistemas mecânicos, podendo analisar se um produto é viável ou não. No campo da medicina é possível usar o classificador para diagnosticar doenças.\n",
    "\n",
    " "
   ]
  },
  {
   "cell_type": "markdown",
   "metadata": {},
   "source": [
    "- ### Projeto de melhorias do classificador\n",
    "\n",
    "\n",
    "\n"
   ]
  },
  {
   "cell_type": "markdown",
   "metadata": {},
   "source": [
    "Uma das considerações que tornariam mais preciso o classificador de Bayes, seria a consideração de dependência dos atributos por meio dos chamados combinadores, algortimos auxiliares que permitiriam combinações entre os atributos. Os combinadores ao possibilitarem a previsão de resultados entre os atributos relacionados permitem um melhor desempenho do modelo, visto que há uma validação cruzada dos resultados. Tal prerrogativa de dependência de elementos é explicada no artigo científico de Aloísio Carlos de Pina e Gerson Zaverucha realizado na Universidade Federal do Rio de Janeiro (UFRJ) - \"Melhorando a Performance do Algoritmo Naive Bayes para Regressão Através da Combinação de Atributos\". - https://www.cos.ufrj.br/~ines/enia07_html/pdf/28095.pdf"
   ]
  },
  {
   "cell_type": "markdown",
   "metadata": {},
   "source": [
    " \n"
   ]
  },
  {
   "cell_type": "markdown",
   "metadata": {},
   "source": [
    "___\n",
    "## Qualidade do Classificador a partir de novas separações dos tweets entre Treinamento e Teste\n",
    "\n",
    "Caso for fazer esse item do Projeto"
   ]
  },
  {
   "cell_type": "markdown",
   "metadata": {},
   "source": [
    "- ### Junção dos tweets em um único dataframe para separação aleatória "
   ]
  },
  {
   "cell_type": "code",
   "execution_count": 19,
   "metadata": {},
   "outputs": [
    {
     "data": {
      "text/html": [
       "<div>\n",
       "<style scoped>\n",
       "    .dataframe tbody tr th:only-of-type {\n",
       "        vertical-align: middle;\n",
       "    }\n",
       "\n",
       "    .dataframe tbody tr th {\n",
       "        vertical-align: top;\n",
       "    }\n",
       "\n",
       "    .dataframe thead th {\n",
       "        text-align: right;\n",
       "    }\n",
       "</style>\n",
       "<table border=\"1\" class=\"dataframe\">\n",
       "  <thead>\n",
       "    <tr style=\"text-align: right;\">\n",
       "      <th></th>\n",
       "      <th>Todos</th>\n",
       "      <th>CLASSIFICAÇÃO</th>\n",
       "    </tr>\n",
       "  </thead>\n",
       "  <tbody>\n",
       "    <tr>\n",
       "      <th>0</th>\n",
       "      <td>será que o justin vai fazer um show no rj além...</td>\n",
       "      <td>0</td>\n",
       "    </tr>\n",
       "    <tr>\n",
       "      <th>1</th>\n",
       "      <td>isso aqui no rock in rio acho que vou chorar  ...</td>\n",
       "      <td>0</td>\n",
       "    </tr>\n",
       "    <tr>\n",
       "      <th>2</th>\n",
       "      <td>nao to preparada para tudo isso no rock in rio...</td>\n",
       "      <td>1</td>\n",
       "    </tr>\n",
       "    <tr>\n",
       "      <th>3</th>\n",
       "      <td>@acciomari quanto ta o ingresso do rock in rio?</td>\n",
       "      <td>0</td>\n",
       "    </tr>\n",
       "    <tr>\n",
       "      <th>4</th>\n",
       "      <td>meu namorado vai realizar meu sonho de ir pro ...</td>\n",
       "      <td>1</td>\n",
       "    </tr>\n",
       "    <tr>\n",
       "      <th>...</th>\n",
       "      <td>...</td>\n",
       "      <td>...</td>\n",
       "    </tr>\n",
       "    <tr>\n",
       "      <th>295</th>\n",
       "      <td>- você é fã do justin bieber?\\n- sim\\n- e você...</td>\n",
       "      <td>0</td>\n",
       "    </tr>\n",
       "    <tr>\n",
       "      <th>296</th>\n",
       "      <td>roknriha??! pq eu entendi ese trocadilho como ...</td>\n",
       "      <td>0</td>\n",
       "    </tr>\n",
       "    <tr>\n",
       "      <th>297</th>\n",
       "      <td>@rockinrio seu eu consegui vai ser me primeiro...</td>\n",
       "      <td>1</td>\n",
       "    </tr>\n",
       "    <tr>\n",
       "      <th>298</th>\n",
       "      <td>@_rdomingues se liga, o show dele tá pra ser o...</td>\n",
       "      <td>0</td>\n",
       "    </tr>\n",
       "    <tr>\n",
       "      <th>299</th>\n",
       "      <td>se o khalid vier pro rock in rio eu morro \\n\\n...</td>\n",
       "      <td>0</td>\n",
       "    </tr>\n",
       "  </tbody>\n",
       "</table>\n",
       "<p>500 rows × 2 columns</p>\n",
       "</div>"
      ],
      "text/plain": [
       "                                                 Todos  CLASSIFICAÇÃO\n",
       "0    será que o justin vai fazer um show no rj além...              0\n",
       "1    isso aqui no rock in rio acho que vou chorar  ...              0\n",
       "2    nao to preparada para tudo isso no rock in rio...              1\n",
       "3      @acciomari quanto ta o ingresso do rock in rio?              0\n",
       "4    meu namorado vai realizar meu sonho de ir pro ...              1\n",
       "..                                                 ...            ...\n",
       "295  - você é fã do justin bieber?\\n- sim\\n- e você...              0\n",
       "296  roknriha??! pq eu entendi ese trocadilho como ...              0\n",
       "297  @rockinrio seu eu consegui vai ser me primeiro...              1\n",
       "298  @_rdomingues se liga, o show dele tá pra ser o...              0\n",
       "299  se o khalid vier pro rock in rio eu morro \\n\\n...              0\n",
       "\n",
       "[500 rows x 2 columns]"
      ]
     },
     "execution_count": 19,
     "metadata": {},
     "output_type": "execute_result"
    }
   ],
   "source": [
    "teste2 = pd.read_excel(filename, sheet_name = 'Teste')\n",
    "teste2 = teste2.rename(columns={'Teste':'Todos'})\n",
    "\n",
    "treinamento2 = pd.read_excel(filename, sheet_name = 'Treinamento')\n",
    "treinamento2 = treinamento2.rename(columns={'Treinamento':'Todos'})\n",
    "\n",
    "total = pd.concat([teste2,treinamento2])\n",
    "novo_df = pd.DataFrame(total)\n",
    "novo_df"
   ]
  },
  {
   "cell_type": "markdown",
   "metadata": {},
   "source": [
    "- ### Repetindo o processo 5000 vezes"
   ]
  },
  {
   "cell_type": "code",
   "execution_count": 36,
   "metadata": {},
   "outputs": [],
   "source": [
    "eficacia2 = []\n",
    "\n",
    "for i in range(5000):\n",
    "    treinamento3, teste3 = train_test_split(total, test_size = 0.4)\n",
    "    \n",
    "    treinamento_relevante2 = treinamento3.loc[treinamento3[\"CLASSIFICAÇÃO\"] == 1, :]\n",
    "    treinamento_relevante_filtrada2 = ' '.join(treinamento_relevante2.Todos) \n",
    "\n",
    "    treinamento_irrelevante2 = treinamento3.loc[treinamento3[\"CLASSIFICAÇÃO\"] == 0, :]\n",
    "    treinamento_irrelevante_filtrada2 = ' '.join(treinamento_irrelevante2.Todos) \n",
    "    \n",
    "    relevante2 = cleanup(treinamento_relevante_filtrada2.lower())\n",
    "    pal_rel2 = Remove_espaco(relevante2)\n",
    "\n",
    "    irrelevante2 = cleanup(treinamento_irrelevante_filtrada2.lower())\n",
    "    pal_irre2 = Remove_espaco(irrelevante2)\n",
    "\n",
    "    series_treinamento_relevante2 = pd.Series(pal_rel2)\n",
    "    series_treinamento_irrelevante2 = pd.Series(pal_irre2)\n",
    "\n",
    "    pal_rel_relativas2 = series_treinamento_relevante2.value_counts(True)\n",
    "    pal_irre_relativas2 = series_treinamento_irrelevante2.value_counts(True)\n",
    "\n",
    "    pal_rel_abs2 = series_treinamento_relevante2.value_counts()\n",
    "    pal_irre_abs2 = series_treinamento_irrelevante2.value_counts()\n",
    "\n",
    "    resultado = classificadora(teste3)\n",
    "\n",
    "    tabela = pd.crosstab(resultado.Classificação_NB, teste3.CLASSIFICAÇÃO, normalize = True).round(4)\n",
    "\n",
    "    verdadeiros_positivos2 = tabela.iloc[1,1]*100\n",
    "    verdadeiros_negativos2 = tabela.iloc[0,0]*100\n",
    "\n",
    "    eficacia3 = (verdadeiros_positivos2) + (verdadeiros_negativos2)\n",
    "\n",
    "    eficacia2.append(eficacia3.round(2))"
   ]
  },
  {
   "cell_type": "markdown",
   "metadata": {},
   "source": [
    "- ### Eficácia"
   ]
  },
  {
   "cell_type": "code",
   "execution_count": 37,
   "metadata": {},
   "outputs": [
    {
     "name": "stdout",
     "output_type": "stream",
     "text": [
      "A média da eficácia foi de 84.193 %\n",
      "O mínimo da eficácia foi de 76.500 %\n",
      "O máximo da eficácia foi de 91.500 %\n"
     ]
    }
   ],
   "source": [
    "eficacia2 = pd.Series(eficacia2)\n",
    "\n",
    "print(f'A média da eficácia foi de {eficacia2.mean():.3f} %')\n",
    "\n",
    "print(f'O mínimo da eficácia foi de {eficacia2.min():.3f} %')\n",
    "\n",
    "print(f'O máximo da eficácia foi de {eficacia2.max():.3f} %')\n",
    "\n"
   ]
  },
  {
   "cell_type": "markdown",
   "metadata": {},
   "source": [
    "- ### Histograma "
   ]
  },
  {
   "cell_type": "code",
   "execution_count": 38,
   "metadata": {},
   "outputs": [],
   "source": [
    "menor = min(eficacia2)\n",
    "maior = max(eficacia2)"
   ]
  },
  {
   "cell_type": "code",
   "execution_count": 39,
   "metadata": {
    "scrolled": true
   },
   "outputs": [
    {
     "data": {
      "text/plain": [
       "array([75.5, 76.5, 77.5, 78.5, 79.5, 80.5, 81.5, 82.5, 83.5, 84.5, 85.5,\n",
       "       86.5, 87.5, 88.5, 89.5, 90.5, 91.5])"
      ]
     },
     "execution_count": 39,
     "metadata": {},
     "output_type": "execute_result"
    }
   ],
   "source": [
    "# faixas de amplitudes iguais\n",
    "faixa = np.arange(menor-1,maior+1,1)\n",
    "faixa"
   ]
  },
  {
   "cell_type": "code",
   "execution_count": 41,
   "metadata": {},
   "outputs": [
    {
     "data": {
      "image/png": "[encoded data removed]",
      "text/plain": [
       "<Figure size 1296x720 with 1 Axes>"
      ]
     },
     "metadata": {
      "needs_background": "light"
     },
     "output_type": "display_data"
    }
   ],
   "source": [
    "# Histograma \n",
    "plt.rcParams[\"figure.figsize\"] = (18,10)\n",
    "plt.rcParams['xtick.labelsize'] = 15\n",
    "plt.rcParams['ytick.labelsize'] = 15\n",
    "plt.hist(eficacia2, bins=faixa, edgecolor='white', color = 'blue', density = False)\n",
    "plt.title('Eficácia do modelo',fontsize=25,fontfamily = 'monospace', fontweight = 'semibold',color='g')\n",
    "plt.ylabel('Faixa',fontsize=20,fontfamily = 'monospace')\n",
    "plt.xlabel('Porcentagem de acerto(%)',fontsize=20,fontfamily = 'monospace')\n",
    "plt.xlim(menor,maior + 1)\n",
    "plt.show()\n"
   ]
  },
  {
   "cell_type": "markdown",
   "metadata": {},
   "source": [
    "- ### Análise do histograma "
   ]
  },
  {
   "cell_type": "markdown",
   "metadata": {},
   "source": [
    "Observa-se que a eficácia média do modelo implementado ficou em torno de 84.193 %, com picos de maior eficácia em torno desse valor, que variavam em torno de um intervalo mínimo de 76,5% e máximo de 91.5 %. No histograma é possível perceber uma variância de eficácia produzidas pelo classificador,isto é a comutação nesse intervalo com picos variáveis. Tal ocorrência se deve ao cruzamento de atributos de treinamentos, o qual se tinha certeza de classificação, com atributos de teste. O embaralhamento dos atributos, contribui para que não se tenha a certeza perante todos as classificações, ficando a análise a dispor das funções implementadas no classficador. Ao se sortear o dataFrame de treinamento gera-se uma uma maior propagação de erros que faz com que se tenha uma falsa eficácia do classificador, ao se comparar a uma classificação que se teria ao fixar uma mesma base de treinamento."
   ]
  },
  {
   "cell_type": "markdown",
   "metadata": {},
   "source": [
    "___\n",
    "## Aperfeiçoamento:\n",
    "\n",
    "Trabalhos que conseguirem pelo menos conceito B vão evoluir em conceito dependendo da quantidade de itens avançados:\n",
    "\n",
    "* IMPLEMENTOU outras limpezas e transformações que não afetem a qualidade da informação contida nos tweets. Ex: stemming, lemmatization, stopwords\n",
    "* CORRIGIU separação de espaços entre palavras e emojis ou entre emojis e emojis\n",
    "* CRIOU categorias intermediárias de relevância baseadas na probabilidade: ex.: muito relevante, relevante, neutro, irrelevante, muito irrelevante. Pelo menos quatro categorias, com adição de mais tweets na base, conforme enunciado. (OBRIGATÓRIO PARA TRIOS, sem contar como item avançado)\n",
    "* EXPLICOU porquê não pode usar o próprio classificador para gerar mais amostras de treinamento\n",
    "* PROPÔS diferentes cenários para Naïve Bayes fora do contexto do projeto\n",
    "* SUGERIU e EXPLICOU melhorias reais com indicações concretas de como implementar (indicar como fazer e indicar material de pesquisa)\n",
    "* FEZ o item 6. Qualidade do Classificador a partir de novas separações dos tweets entre Treinamento e Teste descrito no enunciado do projeto (OBRIGATÓRIO para conceitos A ou A+)"
   ]
  },
  {
   "cell_type": "markdown",
   "metadata": {},
   "source": [
    "___\n",
    "## Referências"
   ]
  },
  {
   "cell_type": "markdown",
   "metadata": {},
   "source": [
    "[Naive Bayes and Text Classification](https://arxiv.org/pdf/1410.5329.pdf)  **Mais completo**\n",
    "\n",
    "[A practical explanation of a Naive Bayes Classifier](https://monkeylearn.com/blog/practical-explanation-naive-bayes-classifier/) **Mais simples**"
   ]
  }
 ],
 "metadata": {
  "kernelspec": {
   "display_name": "Python 3",
   "language": "python",
   "name": "python3"
  },
  "language_info": {
   "codemirror_mode": {
    "name": "ipython",
    "version": 3
   },
   "file_extension": ".py",
   "mimetype": "text/x-python",
   "name": "python",
   "nbconvert_exporter": "python",
   "pygments_lexer": "ipython3",
   "version": "3.8.5"
  }
 },
 "nbformat": 4,
 "nbformat_minor": 4
}
